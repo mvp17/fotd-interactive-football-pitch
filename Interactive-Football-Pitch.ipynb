{
 "cells": [
  {
   "cell_type": "markdown",
   "metadata": {},
   "source": [
    "# fotd-interactive-football-pitch\n",
    "Inspired by the latest Friends of Tracking Data episode [How Tracking Data is Used in Football and What are the Future Challenges](https://www.youtube.com/watch?v=kHTq9cwdkGA), I want to share how easy it can be to create interactivate widgets for tracking data in Python. (If you know all the libraries!).\n",
    "Jupyter widgets allow to add interactivity to Jupyter notebooks. This repository contains an example notebook which uses `qgrid` and `bqplot` to create a simple interactive football pitch.  \n",
    "Important: The sample data was downloaded from [https://github.com/metrica-sports/sample-data](https://github.com/metrica-sports/sample-data). Please visit this repository in case you want to reuse it. \n",
    "The notebook presents three different use-cases of Jupyter widgets to animate and work with tracking data.\n",
    "\n",
    "## Use-cases\n",
    "- Use-case 1: Moving Players on a Football Pitch\n",
    "- Use-case 2: Animate Tracking Data\n",
    "- Use-case 3: Replay Events with Tracking Data"
   ]
  },
  {
   "cell_type": "code",
   "execution_count": 1,
   "metadata": {},
   "outputs": [],
   "source": [
    "import os\n",
    "import ipywidgets as widgets\n",
    "\n",
    "from bqplot import *\n",
    "import numpy as np\n",
    "import pandas as pd\n",
    "import qgrid"
   ]
  },
  {
   "cell_type": "code",
   "execution_count": 2,
   "metadata": {},
   "outputs": [],
   "source": [
    "# X = [-55.5, 55.5]\n",
    "# Y = [-37.0, 37.0]  \n",
    "\n",
    "# Map the pitch coordinates to [0,0] on the top left and [1,1] on bottom right.\n",
    "PITCH_WIDTH = 105.0\n",
    "PITCH_HEIGHT = 68.0\n",
    "OFFSET = 3.0\n",
    "OFFSET_WIDTH = OFFSET/PITCH_WIDTH\n",
    "OFFSET_HEIGHT = OFFSET/PITCH_HEIGHT\n",
    "X = [-OFFSET_WIDTH, 1+OFFSET_WIDTH]\n",
    "Y_rev = [-OFFSET_HEIGHT, 1+OFFSET_HEIGHT]\n",
    "\n",
    "# Only used to fix some issues in voila\n",
    "WIDTH = 506.7\n",
    "HEIGHT = 346.7\n",
    "FACTOR = 1.8\n",
    "\n",
    "class RadarViewWidget(widgets.VBox):\n",
    "    def __init__(self, pitch_img='pitch.png', enable_logging=True):\n",
    "        super().__init__()\n",
    "        self.pitch_img = pitch_img\n",
    "        self.enable_logging = enable_logging\n",
    "        self.image = self.__init_image()\n",
    "        self.home_scatter = self.__init_scatter()\n",
    "        self.away_scatter = self.__init_scatter()\n",
    "        self.ball_scatter = self.__init_scatter(size=64, selected_opacity=1.0)\n",
    "        \n",
    "        self.fig = Figure(marks=[self.image, self.home_scatter, self.away_scatter, self.ball_scatter], padding_x=0, padding_y=0)\n",
    "        self.fig.layout = widgets.Layout(width=f'{WIDTH*FACTOR}px', height=f'{HEIGHT*FACTOR}px')\n",
    "        self.output = widgets.Output()\n",
    "        \n",
    "        self.children = [self.fig, self.output]\n",
    "        \n",
    "    \n",
    "    def __init_image(self):\n",
    "        # read pitch image\n",
    "        image_path = os.path.abspath(self.pitch_img)\n",
    "\n",
    "        with open(image_path, 'rb') as f:\n",
    "            raw_image = f.read()\n",
    "        ipyimage = widgets.Image(value=raw_image, format='png')\n",
    "\n",
    "        scales_image = {'x': LinearScale(), 'y': LinearScale(reverse=True)}\n",
    "        axes_options = {'x': {'visible': True}, 'y': {'visible': True}}\n",
    "\n",
    "        image = Image(image=ipyimage, scales=scales_image, axes_options=axes_options)\n",
    "        # Full screen\n",
    "        image.x = X\n",
    "        image.y = Y_rev\n",
    "        \n",
    "        return image\n",
    "        \n",
    "    def __init_scatter(self, size=128, selected_opacity=0.6, unselected_opacity=1.0):\n",
    "        scales={'x': LinearScale(min=X[0], max=X[1]), 'y': LinearScale(min=Y_rev[0], max=Y_rev[1], reverse=True)}\n",
    "        axes_options = {'x': {'visible': False}, 'y': {'visible': False}}\n",
    "\n",
    "        scatter = Scatter(\n",
    "                            scales= scales, \n",
    "                            default_size=size,\n",
    "                            interactions={'click': 'select'},\n",
    "                            selected_style={'opacity': selected_opacity, 'stroke': 'Black'},\n",
    "                            unselected_style={'opacity': unselected_opacity},\n",
    "                            axes_options=axes_options)\n",
    "        scatter.enable_move = True\n",
    "        \n",
    "        if self.enable_logging:\n",
    "            scatter.on_drag_end(self.output_data)\n",
    "        \n",
    "        return scatter\n",
    "    \n",
    "    def disable_move(self):\n",
    "        self.home_scatter.enable_move = False\n",
    "        self.away_scatter.enable_move = False\n",
    "        self.ball_scatter.enable_move = False\n",
    "\n",
    "    def output_data(self, name, data):\n",
    "        new_x = round(data['point']['x'], 2)\n",
    "        new_y = round(data['point']['y'], 2)\n",
    "        \n",
    "        self.output.clear_output()\n",
    "        with self.output:\n",
    "            print(f'Changed player coordinates to ({new_x},{new_y})')\n",
    "    \n",
    "    def set_data(self, frameset):\n",
    "        self.home_scatter.x = frameset['home_x']\n",
    "        self.home_scatter.y = frameset['home_y']\n",
    "        self.home_scatter.names=frameset['home_names'],\n",
    "        self.home_scatter.colors=frameset['home_color']\n",
    "        \n",
    "        self.away_scatter.x = frameset['away_x']\n",
    "        self.away_scatter.y = frameset['away_y']\n",
    "        self.away_scatter.names=frameset['away_names'],\n",
    "        self.away_scatter.colors=frameset['away_color']\n",
    "        \n",
    "        self.ball_scatter.x = frameset['ball_x']\n",
    "        self.ball_scatter.y = frameset['ball_y']\n",
    "        self.ball_scatter.colors = frameset['ball_color']\n",
    "        \n"
   ]
  },
  {
   "cell_type": "code",
   "execution_count": 9,
   "metadata": {},
   "outputs": [],
   "source": [
    "def get_playerid(name): return name[6:]\n",
    "def get_frameset(frameid):\n",
    "    return {\n",
    "        'home_x': df_home.iloc[frameid, 2:-3:2].dropna().values,\n",
    "        'home_y': df_home.iloc[frameid, 3:-3:2].dropna().values,\n",
    "        'home_names': [get_playerid(name) for name in df_home.iloc[frameid, 2:-3:2].dropna().index.values],\n",
    "        'home_color': ['blue'],\n",
    "        'ball_x': df_home.iloc[frameid, [-2]].values,\n",
    "        'ball_y': df_home.iloc[frameid, [-1]].values,\n",
    "        'ball_color': ['black'],\n",
    "        'away_x': df_away.iloc[frameid, 2:-3:2].dropna().values,\n",
    "        'away_y': df_away.iloc[frameid, 3:-3:2].dropna().values,\n",
    "        'away_names': [get_playerid(name) for name in df_away.iloc[frameid, 2:-3:2].dropna().index.values],\n",
    "        'away_color': ['red'],\n",
    "        \n",
    "    }\n"
   ]
  },
  {
   "cell_type": "markdown",
   "metadata": {},
   "source": [
    "## Use-case 1: Moving Players on a Football Pitch\n",
    "Here, you see how you can use `bqplot` to allow players and the ball on a pitch to be movable. "
   ]
  },
  {
   "cell_type": "code",
   "execution_count": 10,
   "metadata": {},
   "outputs": [
    {
     "data": {
      "application/vnd.jupyter.widget-view+json": {
       "model_id": "0c1157ed82e848c4ba50053c5468747f",
       "version_major": 2,
       "version_minor": 0
      },
      "text/plain": [
       "RadarViewWidget(children=(Figure(fig_margin={'top': 60, 'bottom': 60, 'left': 60, 'right': 60}, layout=Layout(…"
      ]
     },
     "metadata": {},
     "output_type": "display_data"
    }
   ],
   "source": [
    "widget = RadarViewWidget()\n",
    "display(widget)\n",
    "\n",
    "df_home = pd.read_csv('metrica_sample_data/Sample_Game_1_RawTrackingData_Home_Team.csv', index_col=0, skiprows=[0,1])\n",
    "df_away = pd.read_csv('metrica_sample_data/Sample_Game_1_RawTrackingData_Away_Team.csv', index_col=0, skiprows=[0,1])\n",
    "\n",
    "frameid = 0\n",
    "initial_frameset = get_frameset(frameid)\n",
    "\n",
    "widget.set_data(initial_frameset)"
   ]
  },
  {
   "cell_type": "markdown",
   "metadata": {},
   "source": [
    "Move any player or the ball on the pitch and get the information where you moved the scatter point by observing changes with `on_drag_end`. You might want to use this functionality to interactively test the output of your models like `expected-goals`.  \n",
    "We disable this functionalty for the other use-cases."
   ]
  },
  {
   "cell_type": "code",
   "execution_count": 7,
   "metadata": {},
   "outputs": [],
   "source": [
    "widget.disable_move()"
   ]
  },
  {
   "cell_type": "markdown",
   "metadata": {},
   "source": [
    "## Use-case 2: Animate tracking data\n",
    "You can also hook up different widgets to interact with each other. As an example, we allow to replay the tracking data."
   ]
  },
  {
   "cell_type": "code",
   "execution_count": 11,
   "metadata": {
    "scrolled": false
   },
   "outputs": [
    {
     "data": {
      "application/vnd.jupyter.widget-view+json": {
       "model_id": "0c1157ed82e848c4ba50053c5468747f",
       "version_major": 2,
       "version_minor": 0
      },
      "text/plain": [
       "RadarViewWidget(children=(Figure(fig_margin={'top': 60, 'bottom': 60, 'left': 60, 'right': 60}, layout=Layout(…"
      ]
     },
     "metadata": {},
     "output_type": "display_data"
    },
    {
     "data": {
      "application/vnd.jupyter.widget-view+json": {
       "model_id": "1cf7fa81280d441a94569b037eb98f09",
       "version_major": 2,
       "version_minor": 0
      },
      "text/plain": [
       "HBox(children=(Play(value=0, description='Press play', max=145006, step=2), IntSlider(value=0, max=145006)))"
      ]
     },
     "metadata": {},
     "output_type": "display_data"
    }
   ],
   "source": [
    "# Speedup animation\n",
    "STEP = 2\n",
    "\n",
    "display(widget)\n",
    "\n",
    "play = widgets.Play(\n",
    "    value=0,\n",
    "    step=STEP,\n",
    "    max=len(df_home),\n",
    "    description=\"Press play\",\n",
    "    disabled=False\n",
    ")\n",
    "slider = widgets.IntSlider(max=len(df_home))\n",
    "widgets.jslink((play, 'value'), (slider, 'value'))\n",
    "\n",
    "def change_data(change):\n",
    "    widget.set_data(get_frameset(change['new']))\n",
    "    \n",
    "slider.observe(change_data, names='value')\n",
    "slider.value\n",
    "widgets.HBox([play, slider])"
   ]
  },
  {
   "cell_type": "markdown",
   "metadata": {},
   "source": [
    "Now, clicking play or using the slider will update the pitch. But, you can also do this programmatically."
   ]
  },
  {
   "cell_type": "code",
   "execution_count": 12,
   "metadata": {},
   "outputs": [],
   "source": [
    "slider.value = 24"
   ]
  },
  {
   "cell_type": "markdown",
   "metadata": {},
   "source": [
    "## Use-case 3: Replay Events with Tracking Data\n",
    "Because the tracking data and the events are actually synchronised, we can build a simple widget that allows to jump to the event in the tracking data and replay it using our previous widgets and `qgrid` for an interactive table for the events. "
   ]
  },
  {
   "cell_type": "code",
   "execution_count": 13,
   "metadata": {},
   "outputs": [],
   "source": [
    "events = pd.read_csv('metrica_sample_data/Sample_Game_1_RawEventsData.csv')"
   ]
  },
  {
   "cell_type": "code",
   "execution_count": 14,
   "metadata": {},
   "outputs": [
    {
     "data": {
      "text/html": [
       "<div>\n",
       "<style scoped>\n",
       "    .dataframe tbody tr th:only-of-type {\n",
       "        vertical-align: middle;\n",
       "    }\n",
       "\n",
       "    .dataframe tbody tr th {\n",
       "        vertical-align: top;\n",
       "    }\n",
       "\n",
       "    .dataframe thead th {\n",
       "        text-align: right;\n",
       "    }\n",
       "</style>\n",
       "<table border=\"1\" class=\"dataframe\">\n",
       "  <thead>\n",
       "    <tr style=\"text-align: right;\">\n",
       "      <th></th>\n",
       "      <th>Team</th>\n",
       "      <th>Type</th>\n",
       "      <th>Subtype</th>\n",
       "      <th>Period</th>\n",
       "      <th>Start Frame</th>\n",
       "      <th>Start Time [s]</th>\n",
       "      <th>End Frame</th>\n",
       "      <th>End Time [s]</th>\n",
       "      <th>From</th>\n",
       "      <th>To</th>\n",
       "      <th>Start X</th>\n",
       "      <th>Start Y</th>\n",
       "      <th>End X</th>\n",
       "      <th>End Y</th>\n",
       "    </tr>\n",
       "  </thead>\n",
       "  <tbody>\n",
       "    <tr>\n",
       "      <th>1740</th>\n",
       "      <td>Home</td>\n",
       "      <td>PASS</td>\n",
       "      <td>NaN</td>\n",
       "      <td>2</td>\n",
       "      <td>143361</td>\n",
       "      <td>5734.44</td>\n",
       "      <td>143483</td>\n",
       "      <td>5739.32</td>\n",
       "      <td>Player12</td>\n",
       "      <td>Player13</td>\n",
       "      <td>0.60</td>\n",
       "      <td>0.33</td>\n",
       "      <td>0.19</td>\n",
       "      <td>0.95</td>\n",
       "    </tr>\n",
       "    <tr>\n",
       "      <th>1741</th>\n",
       "      <td>Home</td>\n",
       "      <td>PASS</td>\n",
       "      <td>NaN</td>\n",
       "      <td>2</td>\n",
       "      <td>143578</td>\n",
       "      <td>5743.12</td>\n",
       "      <td>143593</td>\n",
       "      <td>5743.72</td>\n",
       "      <td>Player13</td>\n",
       "      <td>Player4</td>\n",
       "      <td>0.09</td>\n",
       "      <td>0.88</td>\n",
       "      <td>0.14</td>\n",
       "      <td>0.69</td>\n",
       "    </tr>\n",
       "    <tr>\n",
       "      <th>1742</th>\n",
       "      <td>Home</td>\n",
       "      <td>BALL LOST</td>\n",
       "      <td>INTERCEPTION</td>\n",
       "      <td>2</td>\n",
       "      <td>143598</td>\n",
       "      <td>5743.92</td>\n",
       "      <td>143618</td>\n",
       "      <td>5744.72</td>\n",
       "      <td>Player4</td>\n",
       "      <td>NaN</td>\n",
       "      <td>0.13</td>\n",
       "      <td>0.69</td>\n",
       "      <td>0.07</td>\n",
       "      <td>0.61</td>\n",
       "    </tr>\n",
       "    <tr>\n",
       "      <th>1743</th>\n",
       "      <td>Away</td>\n",
       "      <td>RECOVERY</td>\n",
       "      <td>BLOCKED</td>\n",
       "      <td>2</td>\n",
       "      <td>143617</td>\n",
       "      <td>5744.68</td>\n",
       "      <td>143617</td>\n",
       "      <td>5744.68</td>\n",
       "      <td>Player16</td>\n",
       "      <td>NaN</td>\n",
       "      <td>0.05</td>\n",
       "      <td>0.62</td>\n",
       "      <td>NaN</td>\n",
       "      <td>NaN</td>\n",
       "    </tr>\n",
       "    <tr>\n",
       "      <th>1744</th>\n",
       "      <td>Away</td>\n",
       "      <td>BALL OUT</td>\n",
       "      <td>NaN</td>\n",
       "      <td>2</td>\n",
       "      <td>143622</td>\n",
       "      <td>5744.88</td>\n",
       "      <td>143630</td>\n",
       "      <td>5745.20</td>\n",
       "      <td>Player16</td>\n",
       "      <td>NaN</td>\n",
       "      <td>0.05</td>\n",
       "      <td>0.63</td>\n",
       "      <td>0.03</td>\n",
       "      <td>1.01</td>\n",
       "    </tr>\n",
       "  </tbody>\n",
       "</table>\n",
       "</div>"
      ],
      "text/plain": [
       "      Team       Type       Subtype  Period  Start Frame  Start Time [s]  \\\n",
       "1740  Home       PASS           NaN       2       143361         5734.44   \n",
       "1741  Home       PASS           NaN       2       143578         5743.12   \n",
       "1742  Home  BALL LOST  INTERCEPTION       2       143598         5743.92   \n",
       "1743  Away   RECOVERY       BLOCKED       2       143617         5744.68   \n",
       "1744  Away   BALL OUT           NaN       2       143622         5744.88   \n",
       "\n",
       "      End Frame  End Time [s]      From        To  Start X  Start Y  End X  \\\n",
       "1740     143483       5739.32  Player12  Player13     0.60     0.33   0.19   \n",
       "1741     143593       5743.72  Player13   Player4     0.09     0.88   0.14   \n",
       "1742     143618       5744.72   Player4       NaN     0.13     0.69   0.07   \n",
       "1743     143617       5744.68  Player16       NaN     0.05     0.62    NaN   \n",
       "1744     143630       5745.20  Player16       NaN     0.05     0.63   0.03   \n",
       "\n",
       "      End Y  \n",
       "1740   0.95  \n",
       "1741   0.69  \n",
       "1742   0.61  \n",
       "1743    NaN  \n",
       "1744   1.01  "
      ]
     },
     "execution_count": 14,
     "metadata": {},
     "output_type": "execute_result"
    }
   ],
   "source": [
    "events.tail()"
   ]
  },
  {
   "cell_type": "code",
   "execution_count": 10,
   "metadata": {},
   "outputs": [],
   "source": [
    "COLUMNS = ['Type','Team','Start Frame','Start Time [s]','Start X','Start Y']\n",
    "events_short = events[COLUMNS].copy()"
   ]
  },
  {
   "cell_type": "code",
   "execution_count": 12,
   "metadata": {
    "scrolled": false
   },
   "outputs": [
    {
     "data": {
      "application/vnd.jupyter.widget-view+json": {
       "model_id": "07cb831d6258492e9baf018afb80177e",
       "version_major": 2,
       "version_minor": 0
      },
      "text/plain": [
       "RadarViewWidget(children=(Figure(fig_margin={'top': 60, 'bottom': 60, 'left': 60, 'right': 60}, layout=Layout(…"
      ]
     },
     "metadata": {},
     "output_type": "display_data"
    },
    {
     "data": {
      "application/vnd.jupyter.widget-view+json": {
       "model_id": "141a85c1b696483fb549a8a0609005aa",
       "version_major": 2,
       "version_minor": 0
      },
      "text/plain": [
       "HBox(children=(Play(value=24, description='Press play', max=145006, step=2), IntSlider(value=24, max=145006)))"
      ]
     },
     "metadata": {},
     "output_type": "display_data"
    },
    {
     "data": {
      "application/vnd.jupyter.widget-view+json": {
       "model_id": "7e8675aa7b474dc397c4239113075662",
       "version_major": 2,
       "version_minor": 0
      },
      "text/plain": [
       "QgridWidget(grid_options={'fullWidthRows': True, 'syncColumnCellResize': True, 'forceFitColumns': True, 'defau…"
      ]
     },
     "metadata": {},
     "output_type": "display_data"
    }
   ],
   "source": [
    "# Define qgrid widget\n",
    "qgrid.set_grid_option('maxVisibleRows', 10)\n",
    "col_opts = { \n",
    "    'editable': False,\n",
    "}\n",
    "\n",
    "def on_row_selected(change):\n",
    "    \"\"\"callback for row selection: update selected points in scatter plot\"\"\"\n",
    "    filtered_df = qgrid_widget.get_changed_df() \n",
    "    event = filtered_df.iloc[change.new]\n",
    "    widget.set_data(get_frameset((int(event['Start Frame'].item()))))\n",
    "    slider.value = int(event['Start Frame'].item())\n",
    "   \n",
    "        \n",
    "qgrid_widget = qgrid.show_grid(events_short, show_toolbar=False, column_options=col_opts)\n",
    "qgrid_widget.layout = widgets.Layout(width='920px')\n",
    "   \n",
    "qgrid_widget.observe(on_row_selected, names=['_selected_rows'])\n",
    "\n",
    "display(widget)\n",
    "display(widgets.HBox([play, slider]))\n",
    "display(qgrid_widget)"
   ]
  },
  {
   "cell_type": "markdown",
   "metadata": {},
   "source": [
    "Select a row to jump to the specific event in the tracking data. \n",
    "You can easily filter for events and teams clicking on the filter symbol in the column headers."
   ]
  },
  {
   "cell_type": "markdown",
   "metadata": {},
   "source": [
    "## Next\n",
    "If you want to add some functionality, here are some ideas:\n",
    "- Add the current game time to the pitch plot (and update it when playing).\n",
    "- Add some functionality like voronoi cells or convex hulls of teams as implemented [here](https://github.com/seidlr/Game-Animation).\n",
    "- Add a auto-replay option: When selecting an event, the animation should start at this event and stop of it is over as documented in the columns `End X` and `End Y`.\n",
    "- Create an overlay/tooltip for player information using `bqplot.tooltip`.\n",
    "- Calculate the distance covered for each player and the ball in the match."
   ]
  },
  {
   "cell_type": "code",
   "execution_count": null,
   "metadata": {},
   "outputs": [],
   "source": []
  }
 ],
 "metadata": {
  "hide_input": false,
  "kernelspec": {
   "display_name": "Python 3",
   "language": "python",
   "name": "python3"
  },
  "language_info": {
   "codemirror_mode": {
    "name": "ipython",
    "version": 3
   },
   "file_extension": ".py",
   "mimetype": "text/x-python",
   "name": "python",
   "nbconvert_exporter": "python",
   "pygments_lexer": "ipython3",
   "version": "3.7.6"
  },
  "latex_envs": {
   "LaTeX_envs_menu_present": true,
   "autoclose": false,
   "autocomplete": true,
   "bibliofile": "biblio.bib",
   "cite_by": "apalike",
   "current_citInitial": 1,
   "eqLabelWithNumbers": true,
   "eqNumInitial": 1,
   "hotkeys": {
    "equation": "Ctrl-E",
    "itemize": "Ctrl-I"
   },
   "labels_anchors": false,
   "latex_user_defs": false,
   "report_style_numbering": false,
   "user_envs_cfg": false
  },
  "toc": {
   "base_numbering": 1,
   "nav_menu": {},
   "number_sections": true,
   "sideBar": true,
   "skip_h1_title": false,
   "title_cell": "Table of Contents",
   "title_sidebar": "Contents",
   "toc_cell": false,
   "toc_position": {},
   "toc_section_display": true,
   "toc_window_display": true
  },
  "varInspector": {
   "cols": {
    "lenName": 16,
    "lenType": 16,
    "lenVar": 40
   },
   "kernels_config": {
    "python": {
     "delete_cmd_postfix": "",
     "delete_cmd_prefix": "del ",
     "library": "var_list.py",
     "varRefreshCmd": "print(var_dic_list())"
    },
    "r": {
     "delete_cmd_postfix": ") ",
     "delete_cmd_prefix": "rm(",
     "library": "var_list.r",
     "varRefreshCmd": "cat(var_dic_list()) "
    }
   },
   "types_to_exclude": [
    "module",
    "function",
    "builtin_function_or_method",
    "instance",
    "_Feature"
   ],
   "window_display": false
  },
  "widgets": {
   "application/vnd.jupyter.widget-state+json": {
    "state": {
     "04d900c35c79407e8f9f57c71a3ad338": {
      "model_module": "bqplot",
      "model_module_version": "^0.3.0",
      "model_name": "AxisModel",
      "state": {
       "_model_module_version": "^0.3.0",
       "_view_module_version": "^0.3.0",
       "scale": "IPY_MODEL_80b4dfd4d32e46058d615a19c8ba4226",
       "side": "bottom",
       "tick_values": {
        "type": null,
        "values": null
       }
      }
     },
     "0622ba0d24e94ed4ba3aaab8df39c611": {
      "model_module": "@jupyter-widgets/base",
      "model_module_version": "1.0.0",
      "model_name": "LayoutModel",
      "state": {}
     },
     "0d3e5819043a4b378d3af13648d5b3b4": {
      "model_module": "@jupyter-widgets/base",
      "model_module_version": "1.0.0",
      "model_name": "LayoutModel",
      "state": {
       "min_width": "125px"
      }
     },
     "1ec882db9cb841fb87f907d09cad0480": {
      "model_module": "bqplot",
      "model_module_version": "^0.3.0",
      "model_name": "LinearScaleModel",
      "state": {
       "_model_module_version": "^0.3.0",
       "_view_module_version": "^0.3.0",
       "allow_padding": false,
       "max": 1,
       "min": 0,
       "stabilized": false
      }
     },
     "203eb5a03efa4105adfd9b853ac49b7b": {
      "model_module": "@jupyter-widgets/base",
      "model_module_version": "1.0.0",
      "model_name": "LayoutModel",
      "state": {}
     },
     "32d48656fa234d86a504e3c01daa2a5c": {
      "model_module": "@jupyter-widgets/controls",
      "model_module_version": "1.0.0",
      "model_name": "ImageModel",
      "state": {
       "layout": "IPY_MODEL_b72fbd0d6a36449e8691540541a6d00b",
       "value": {}
      }
     },
     "3375f88558044daba7af8850d3f7d76e": {
      "model_module": "@jupyter-widgets/base",
      "model_module_version": "1.0.0",
      "model_name": "LayoutModel",
      "state": {
       "min_width": "125px"
      }
     },
     "3dbaf85a158048bb8afab96efcd647dd": {
      "model_module": "bqplot",
      "model_module_version": "^0.3.0",
      "model_name": "ToolbarModel",
      "state": {
       "_model_module_version": "^0.3.0",
       "_view_module_version": "^0.3.0",
       "figure": "IPY_MODEL_4e6331271a734ad3831edadd5c59efad",
       "layout": "IPY_MODEL_203eb5a03efa4105adfd9b853ac49b7b"
      }
     },
     "456831a0b1e84a8a8165dba766473edf": {
      "model_module": "bqplot",
      "model_module_version": "^0.3.0",
      "model_name": "LinearScaleModel",
      "state": {
       "_model_module_version": "^0.3.0",
       "_view_module_version": "^0.3.0",
       "max": 2,
       "min": -1,
       "stabilized": false
      }
     },
     "4db5e4b8cb6445dbb21323e987bd724d": {
      "model_module": "bqplot",
      "model_module_version": "^0.3.0",
      "model_name": "LinearScaleModel",
      "state": {
       "_model_module_version": "^0.3.0",
       "_view_module_version": "^0.3.0",
       "stabilized": false
      }
     },
     "4e6331271a734ad3831edadd5c59efad": {
      "model_module": "bqplot",
      "model_module_version": "^0.3.0",
      "model_name": "FigureModel",
      "state": {
       "_dom_classes": [],
       "_model_module_version": "^0.3.0",
       "_view_module_version": "^0.3.0",
       "axes": [
        "IPY_MODEL_ce3fef64c326403ba2d46dcc2ddb9c18",
        "IPY_MODEL_04d900c35c79407e8f9f57c71a3ad338"
       ],
       "layout": "IPY_MODEL_55514efc97d54c44974e0013a5f5cbc9",
       "marks": [
        "IPY_MODEL_f5ab5459a15d45debea50eb61d0687b8"
       ],
       "max_aspect_ratio": 6,
       "scale_x": "IPY_MODEL_e0aaf68043b742aa9f59eda5706cd6f7",
       "scale_y": "IPY_MODEL_b97d52c4b7f6463f8b4fbea61904a477"
      }
     },
     "51ee8a765fa4490693392782a05aeb28": {
      "model_module": "bqplot",
      "model_module_version": "^0.3.0",
      "model_name": "LinearScaleModel",
      "state": {
       "_model_module_version": "^0.3.0",
       "_view_module_version": "^0.3.0",
       "max": 2,
       "min": -0.5,
       "stabilized": false
      }
     },
     "55514efc97d54c44974e0013a5f5cbc9": {
      "model_module": "@jupyter-widgets/base",
      "model_module_version": "1.0.0",
      "model_name": "LayoutModel",
      "state": {
       "min_width": "125px"
      }
     },
     "5bdf5d8c9b0341c381f23de4283276fe": {
      "model_module": "bqplot",
      "model_module_version": "^0.3.0",
      "model_name": "FigureModel",
      "state": {
       "_dom_classes": [],
       "_model_module_version": "^0.3.0",
       "_view_module_version": "^0.3.0",
       "animation_duration": 1000,
       "axes": [
        "IPY_MODEL_d39498cdd2aa4cbb92d755f4d328d391",
        "IPY_MODEL_ca5e304f502441c6b80a3b3d05015a34"
       ],
       "layout": "IPY_MODEL_0d3e5819043a4b378d3af13648d5b3b4",
       "marks": [
        "IPY_MODEL_c8a4845b09b64b2482ef1f9f80ad1124",
        "IPY_MODEL_bb2c845b016f458ca3e6d2ce4edcc5ea"
       ],
       "max_aspect_ratio": 6,
       "padding_y": 0,
       "scale_x": "IPY_MODEL_e70a421702444d01ae2ae96b593d6872",
       "scale_y": "IPY_MODEL_f73f97656cff4b29a3ce2b0e1bad1dd8"
      }
     },
     "755fcbec00654317aa22d6da462e0c38": {
      "model_module": "bqplot",
      "model_module_version": "^0.3.0",
      "model_name": "FigureModel",
      "state": {
       "_dom_classes": [],
       "_model_module_version": "^0.3.0",
       "_view_module_version": "^0.3.0",
       "layout": "IPY_MODEL_3375f88558044daba7af8850d3f7d76e",
       "marks": [
        "IPY_MODEL_aaf364707416448aa4d8006ec663eeea"
       ],
       "max_aspect_ratio": 6,
       "padding_y": 0,
       "scale_x": "IPY_MODEL_e15f595de79249869d36f9da368d6166",
       "scale_y": "IPY_MODEL_1ec882db9cb841fb87f907d09cad0480",
       "title": "Trees"
      }
     },
     "75c841d62d024c6399b50950e30ccd55": {
      "model_module": "bqplot",
      "model_module_version": "^0.3.0",
      "model_name": "LinearScaleModel",
      "state": {
       "_model_module_version": "^0.3.0",
       "_view_module_version": "^0.3.0",
       "stabilized": false
      }
     },
     "80b4dfd4d32e46058d615a19c8ba4226": {
      "model_module": "bqplot",
      "model_module_version": "^0.3.0",
      "model_name": "LinearScaleModel",
      "state": {
       "_model_module_version": "^0.3.0",
       "_view_module_version": "^0.3.0",
       "stabilized": false
      }
     },
     "929323256cec4ef0abe15110e9cb76fa": {
      "model_module": "bqplot",
      "model_module_version": "^0.3.0",
      "model_name": "LinearScaleModel",
      "state": {
       "_model_module_version": "^0.3.0",
       "_view_module_version": "^0.3.0",
       "stabilized": false
      }
     },
     "aaf364707416448aa4d8006ec663eeea": {
      "model_module": "bqplot",
      "model_module_version": "^0.3.0",
      "model_name": "ImageModel",
      "state": {
       "_model_module_version": "^0.3.0",
       "_view_module_version": "^0.3.0",
       "display_legend": false,
       "image": "IPY_MODEL_bfe77423b216444e9ca904519b4c3a9c",
       "scales": {
        "x": "IPY_MODEL_75c841d62d024c6399b50950e30ccd55",
        "y": "IPY_MODEL_929323256cec4ef0abe15110e9cb76fa"
       },
       "selected": [],
       "x": {
        "type": "float",
        "values": [
         0,
         1
        ]
       },
       "y": {
        "type": "float",
        "values": [
         0,
         1
        ]
       }
      }
     },
     "b2b338531df545928f6f8ce701fbf132": {
      "model_module": "@jupyter-widgets/base",
      "model_module_version": "1.0.0",
      "model_name": "LayoutModel",
      "state": {}
     },
     "b72fbd0d6a36449e8691540541a6d00b": {
      "model_module": "@jupyter-widgets/base",
      "model_module_version": "1.0.0",
      "model_name": "LayoutModel",
      "state": {}
     },
     "b97d52c4b7f6463f8b4fbea61904a477": {
      "model_module": "bqplot",
      "model_module_version": "^0.3.0",
      "model_name": "LinearScaleModel",
      "state": {
       "_model_module_version": "^0.3.0",
       "_view_module_version": "^0.3.0",
       "allow_padding": false,
       "max": 1,
       "min": 0,
       "stabilized": false
      }
     },
     "bb2c845b016f458ca3e6d2ce4edcc5ea": {
      "model_module": "bqplot",
      "model_module_version": "^0.3.0",
      "model_name": "LinesModel",
      "state": {
       "_model_module_version": "^0.3.0",
       "_view_module_version": "^0.3.0",
       "color": {
        "type": null,
        "values": null
       },
       "colors": [
        "red"
       ],
       "display_legend": false,
       "fill_colors": [],
       "labels": [
        "C1"
       ],
       "scales": {
        "x": "IPY_MODEL_456831a0b1e84a8a8165dba766473edf",
        "y": "IPY_MODEL_51ee8a765fa4490693392782a05aeb28"
       },
       "selected": [],
       "x": {
        "type": "float",
        "values": [
         0,
         1,
         1,
         0,
         0
        ]
       },
       "y": {
        "type": "float",
        "values": [
         0,
         0,
         1,
         1,
         0
        ]
       }
      }
     },
     "bfe77423b216444e9ca904519b4c3a9c": {
      "model_module": "@jupyter-widgets/controls",
      "model_module_version": "1.0.0",
      "model_name": "ImageModel",
      "state": {
       "format": "jpg",
       "layout": "IPY_MODEL_b2b338531df545928f6f8ce701fbf132",
       "value": {}
      }
     },
     "c8a4845b09b64b2482ef1f9f80ad1124": {
      "model_module": "bqplot",
      "model_module_version": "^0.3.0",
      "model_name": "ImageModel",
      "state": {
       "_model_module_version": "^0.3.0",
       "_view_module_version": "^0.3.0",
       "display_legend": false,
       "image": "IPY_MODEL_bfe77423b216444e9ca904519b4c3a9c",
       "scales": {
        "x": "IPY_MODEL_456831a0b1e84a8a8165dba766473edf",
        "y": "IPY_MODEL_51ee8a765fa4490693392782a05aeb28"
       },
       "selected": [],
       "x": {
        "type": "float",
        "values": [
         -1,
         2
        ]
       },
       "y": {
        "type": "float",
        "values": [
         -0.5,
         2
        ]
       }
      }
     },
     "ca5e304f502441c6b80a3b3d05015a34": {
      "model_module": "bqplot",
      "model_module_version": "^0.3.0",
      "model_name": "AxisModel",
      "state": {
       "_model_module_version": "^0.3.0",
       "_view_module_version": "^0.3.0",
       "orientation": "vertical",
       "scale": "IPY_MODEL_51ee8a765fa4490693392782a05aeb28",
       "side": "left",
       "tick_values": {
        "type": null,
        "values": null
       }
      }
     },
     "ce3fef64c326403ba2d46dcc2ddb9c18": {
      "model_module": "bqplot",
      "model_module_version": "^0.3.0",
      "model_name": "AxisModel",
      "state": {
       "_model_module_version": "^0.3.0",
       "_view_module_version": "^0.3.0",
       "orientation": "vertical",
       "scale": "IPY_MODEL_4db5e4b8cb6445dbb21323e987bd724d",
       "side": "left",
       "tick_values": {
        "type": null,
        "values": null
       }
      }
     },
     "d39498cdd2aa4cbb92d755f4d328d391": {
      "model_module": "bqplot",
      "model_module_version": "^0.3.0",
      "model_name": "AxisModel",
      "state": {
       "_model_module_version": "^0.3.0",
       "_view_module_version": "^0.3.0",
       "scale": "IPY_MODEL_456831a0b1e84a8a8165dba766473edf",
       "side": "bottom",
       "tick_values": {
        "type": null,
        "values": null
       }
      }
     },
     "e0aaf68043b742aa9f59eda5706cd6f7": {
      "model_module": "bqplot",
      "model_module_version": "^0.3.0",
      "model_name": "LinearScaleModel",
      "state": {
       "_model_module_version": "^0.3.0",
       "_view_module_version": "^0.3.0",
       "allow_padding": false,
       "max": 1,
       "min": 0,
       "stabilized": false
      }
     },
     "e15f595de79249869d36f9da368d6166": {
      "model_module": "bqplot",
      "model_module_version": "^0.3.0",
      "model_name": "LinearScaleModel",
      "state": {
       "_model_module_version": "^0.3.0",
       "_view_module_version": "^0.3.0",
       "allow_padding": false,
       "max": 1,
       "min": 0,
       "stabilized": false
      }
     },
     "e70a421702444d01ae2ae96b593d6872": {
      "model_module": "bqplot",
      "model_module_version": "^0.3.0",
      "model_name": "LinearScaleModel",
      "state": {
       "_model_module_version": "^0.3.0",
       "_view_module_version": "^0.3.0",
       "allow_padding": false,
       "max": 1,
       "min": 0,
       "stabilized": false
      }
     },
     "f5ab5459a15d45debea50eb61d0687b8": {
      "model_module": "bqplot",
      "model_module_version": "^0.3.0",
      "model_name": "ImageModel",
      "state": {
       "_model_module_version": "^0.3.0",
       "_view_module_version": "^0.3.0",
       "display_legend": false,
       "image": "IPY_MODEL_32d48656fa234d86a504e3c01daa2a5c",
       "scales": {
        "x": "IPY_MODEL_80b4dfd4d32e46058d615a19c8ba4226",
        "y": "IPY_MODEL_4db5e4b8cb6445dbb21323e987bd724d"
       },
       "selected": [],
       "x": {
        "type": "float",
        "values": [
         0,
         1
        ]
       },
       "y": {
        "type": "float",
        "values": [
         0,
         1
        ]
       }
      }
     },
     "f73f97656cff4b29a3ce2b0e1bad1dd8": {
      "model_module": "bqplot",
      "model_module_version": "^0.3.0",
      "model_name": "LinearScaleModel",
      "state": {
       "_model_module_version": "^0.3.0",
       "_view_module_version": "^0.3.0",
       "allow_padding": false,
       "max": 1,
       "min": 0,
       "stabilized": false
      }
     },
     "f920e644b9f44e64b7c6e9f9d0509dca": {
      "model_module": "@jupyter-widgets/controls",
      "model_module_version": "1.0.0",
      "model_name": "VBoxModel",
      "state": {
       "children": [
        "IPY_MODEL_4e6331271a734ad3831edadd5c59efad",
        "IPY_MODEL_3dbaf85a158048bb8afab96efcd647dd"
       ],
       "layout": "IPY_MODEL_0622ba0d24e94ed4ba3aaab8df39c611"
      }
     }
    },
    "version_major": 2,
    "version_minor": 0
   }
  }
 },
 "nbformat": 4,
 "nbformat_minor": 2
}
